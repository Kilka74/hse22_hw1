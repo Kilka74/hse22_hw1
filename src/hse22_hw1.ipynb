{
  "nbformat": 4,
  "nbformat_minor": 0,
  "metadata": {
    "colab": {
      "provenance": [],
      "collapsed_sections": []
    },
    "kernelspec": {
      "name": "python3",
      "display_name": "Python 3"
    },
    "language_info": {
      "name": "python"
    }
  },
  "cells": [
    {
      "cell_type": "code",
      "execution_count": 3,
      "metadata": {
        "id": "GXRE80dxFzOX"
      },
      "outputs": [],
      "source": [
        "import re\n",
        "\n",
        "def printInfo(text, chislo, itogovaya_dlina, maksimalnaya_dlina, i):\n",
        "    print('Анализ', text, '\\n Общее количество:', chislo,'\\n Общая длина:', itogovaya_dlina, '\\n Длина наибольшего:', maksimalnaya_dlina,'\\n N50:', i, '\\n')\n",
        "\n",
        "def process(f, text, output = True):\n",
        "    dliny = []\n",
        "    itogovaya_dlina = chislo = maksimalnaya_dlina = dlina = ochko = 0\n",
        "    maksimalnaya_posledovatelnost = tekushchaya_posledovatelnost = ''\n",
        "    for liniya in f:\n",
        "        if liniya[0] == '>':\n",
        "            if chislo != 0:\n",
        "                dliny.append(dlina)\n",
        "            chislo += 1\n",
        "            if dlina >= maksimalnaya_dlina:\n",
        "                maksimalnaya_dlina = dlina\n",
        "                maksimalnaya_posledovatelnost = tekushchaya_posledovatelnost\n",
        "            tekushchaya_posledovatelnost = ''\n",
        "            dlina = 0\n",
        "        else:\n",
        "            tekushchaya_posledovatelnost += liniya.strip()\n",
        "            dlina += len(liniya.strip())\n",
        "            itogovaya_dlina += len(liniya.strip())\n",
        "    if dlina >= maksimalnaya_dlina:\n",
        "        maksimalnaya_dlina = dlina\n",
        "        maksimalnaya_posledovatelnost = tekushchaya_posledovatelnost\n",
        "\n",
        "\n",
        "    dliny.sort(reverse = True) \n",
        "    for i in dliny:\n",
        "        ochko += i\n",
        "        if ochko >= itogovaya_dlina / 2:\n",
        "            if output == True:\n",
        "                printInfo(text, chislo, itogovaya_dlina, maksimalnaya_dlina, i)\n",
        "            break\n",
        "    return maksimalnaya_posledovatelnost"
      ]
    },
    {
      "cell_type": "code",
      "source": [
        "max_cont = process(open('Poil_contig.fa', 'r'), 'Контигов')"
      ],
      "metadata": {
        "colab": {
          "base_uri": "https://localhost:8080/"
        },
        "id": "GB0mCkMtKBN9",
        "outputId": "d9342f38-b875-4586-c0bc-8acde9218178"
      },
      "execution_count": 4,
      "outputs": [
        {
          "output_type": "stream",
          "name": "stdout",
          "text": [
            "Анализ Контигов \n",
            " Общее количество: 623 \n",
            " Общая длина: 3925498 \n",
            " Длина наибольшего: 179304 \n",
            " N50: 47993 \n",
            "\n"
          ]
        }
      ]
    },
    {
      "cell_type": "code",
      "source": [
        "max_scaf = process(open('Poil_scaffold.fa', 'r'), 'Скаффолдов')"
      ],
      "metadata": {
        "colab": {
          "base_uri": "https://localhost:8080/"
        },
        "id": "523Nk7qCKETl",
        "outputId": "64876fd9-c6a6-4bbe-ce8b-ea2fadb33427"
      },
      "execution_count": 5,
      "outputs": [
        {
          "output_type": "stream",
          "name": "stdout",
          "text": [
            "Анализ Скаффолдов \n",
            " Общее количество: 75 \n",
            " Общая длина: 3875455 \n",
            " Длина наибольшего: 3831071 \n",
            " N50: 3831071 \n",
            "\n"
          ]
        }
      ]
    },
    {
      "cell_type": "code",
      "source": [
        "f = open(\"longest.fasta\", \"w\")\n",
        "f.write(max_scaf)\n",
        "f.close()"
      ],
      "metadata": {
        "id": "WUee3OSXUdUp"
      },
      "execution_count": 6,
      "outputs": []
    },
    {
      "cell_type": "code",
      "source": [
        "print('Общая длина гэпов:',  max_scaf.count(\"N\"))\n",
        "max_scaf = re.sub(r'N{2,}', 'N', max_scaf)\n",
        "print('Число гэпов:', max_scaf.count(\"N\"))"
      ],
      "metadata": {
        "colab": {
          "base_uri": "https://localhost:8080/"
        },
        "id": "YhiIkE-nKIrG",
        "outputId": "7c2f0137-1294-44e9-f586-9bb341405fa2"
      },
      "execution_count": 7,
      "outputs": [
        {
          "output_type": "stream",
          "name": "stdout",
          "text": [
            "Общая длина гэпов: 6556\n",
            "Число гэпов: 64\n"
          ]
        }
      ]
    },
    {
      "cell_type": "code",
      "source": [
        "max_scaf = process(open('Poil_gapClosed.fa', 'r'), 'Скаффолдов', False)"
      ],
      "metadata": {
        "id": "I84IK41sKLI9"
      },
      "execution_count": 8,
      "outputs": []
    },
    {
      "cell_type": "code",
      "source": [
        "print('Общая длина гэпов для обрезанных чтений:', max_scaf.count(\"N\"))\n",
        "max_scaf = re.sub(r'N{2,}', 'N', max_scaf)\n",
        "print('Число гэпов для обрезанных чтений:', max_scaf.count(\"N\"))"
      ],
      "metadata": {
        "id": "Vj7dSDzWKMhw",
        "outputId": "51f51828-a9c6-4f58-eb29-7cc402e61377",
        "colab": {
          "base_uri": "https://localhost:8080/"
        }
      },
      "execution_count": 10,
      "outputs": [
        {
          "output_type": "stream",
          "name": "stdout",
          "text": [
            "Общая длина гэпов для обрезанных чтений: 7\n",
            "Число гэпов для обрезанных чтений: 7\n"
          ]
        }
      ]
    }
  ]
}